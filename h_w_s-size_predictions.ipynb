{
  "nbformat": 4,
  "nbformat_minor": 0,
  "metadata": {
    "colab": {
      "name": "Homework 3 different datasets.ipynb",
      "version": "0.3.2",
      "provenance": [],
      "collapsed_sections": [],
      "include_colab_link": true
    },
    "kernelspec": {
      "name": "python3",
      "display_name": "Python 3"
    }
  },
  "cells": [
    {
      "cell_type": "markdown",
      "metadata": {
        "id": "view-in-github",
        "colab_type": "text"
      },
      "source": [
        "<a href=\"https://colab.research.google.com/github/geoniced/height-weight-shoe_size-predictions/blob/master/h_w_s-size_predictions.ipynb\" target=\"_parent\"><img src=\"https://colab.research.google.com/assets/colab-badge.svg\" alt=\"Open In Colab\"/></a>"
      ]
    },
    {
      "metadata": {
        "id": "D_PoJ8ktpK4M",
        "colab_type": "code",
        "colab": {}
      },
      "cell_type": "code",
      "source": [
        "from sklearn import tree\n",
        "from sklearn.neighbors import KNeighborsClassifier # 1\n",
        "from sklearn.neural_network import MLPClassifier # 2\n",
        "from sklearn.svm import SVC # 3\n",
        "\n",
        "from sklearn.metrics import accuracy_score\n"
      ],
      "execution_count": 0,
      "outputs": []
    },
    {
      "metadata": {
        "id": "J0p5bd6zpSIZ",
        "colab_type": "code",
        "colab": {}
      },
      "cell_type": "code",
      "source": [
        "#[height, weight, shoe size] train\n",
        "train_data = [\n",
        "    [181, 80, 44], [177, 70, 43], [160, 60, 38], [154, 54, 37], [166, 65, 40],\n",
        "    [190, 90, 47], [175, 64, 39], [177, 70, 40], [159, 55, 37], [171, 75, 42], \n",
        "    [181, 85, 43]\n",
        "]\n",
        "train_label = ['male', 'male', 'female', 'female', 'male', 'male', 'female', \n",
        "    'female', 'female', 'male', 'male']\n",
        "\n",
        "# test\n",
        "test_data = [\n",
        "    [192, 100, 45],\n",
        "    [175, 60, 38]\n",
        "]\n",
        "\n",
        "test_label = ['male', 'female']"
      ],
      "execution_count": 0,
      "outputs": []
    },
    {
      "metadata": {
        "id": "fII9N8sopSgr",
        "colab_type": "code",
        "outputId": "fae666df-7d9d-4167-c2d2-3a648fbc5756",
        "colab": {
          "base_uri": "https://localhost:8080/",
          "height": 34
        }
      },
      "cell_type": "code",
      "source": [
        "\n",
        "# CHALLENGE - ...and train them on our data\n",
        "\n",
        "clf = tree.DecisionTreeClassifier()\n",
        "clf = clf.fit(train_data, train_label)\n",
        "\n",
        "clf_prediction = clf.predict(test_data)\n",
        "# CHALLENGE compare their reusults and print the best one!\n",
        "print(clf_prediction)"
      ],
      "execution_count": 0,
      "outputs": [
        {
          "output_type": "stream",
          "text": [
            "['male' 'female']\n"
          ],
          "name": "stdout"
        }
      ]
    },
    {
      "metadata": {
        "id": "zvv8nRKspSl4",
        "colab_type": "code",
        "outputId": "85d96c57-f919-4fe1-adf3-5ec8e4993450",
        "colab": {
          "base_uri": "https://localhost:8080/",
          "height": 34
        }
      },
      "cell_type": "code",
      "source": [
        "# Closest Neighbors\n",
        "kn_classifier = KNeighborsClassifier(n_jobs=-1)\n",
        "kn_classifier = kn_classifier.fit(train_data, train_label)\n",
        "\n",
        "kn_prediction = kn_classifier.predict(test_data)\n",
        "print(kn_prediction)"
      ],
      "execution_count": 0,
      "outputs": [
        {
          "output_type": "stream",
          "text": [
            "['male' 'female']\n"
          ],
          "name": "stdout"
        }
      ]
    },
    {
      "metadata": {
        "id": "rdK-qXprNg9z",
        "colab_type": "code",
        "outputId": "eca18f75-3e9b-4858-9dae-10f7afae617c",
        "colab": {
          "base_uri": "https://localhost:8080/",
          "height": 68
        }
      },
      "cell_type": "code",
      "source": [
        "# Multi-layer Perceptron\n",
        "mlp_classifier = MLPClassifier(verbose=False)\n",
        "mlp_classifier = mlp_classifier.fit(train_data, train_label)\n",
        "\n",
        "mlp_prediction = mlp_classifier.predict(test_data)\n",
        "print(mlp_prediction)"
      ],
      "execution_count": 0,
      "outputs": [
        {
          "output_type": "stream",
          "text": [
            "['male' 'female']\n"
          ],
          "name": "stdout"
        },
        {
          "output_type": "stream",
          "text": [
            "/usr/local/lib/python3.6/dist-packages/sklearn/neural_network/multilayer_perceptron.py:562: ConvergenceWarning: Stochastic Optimizer: Maximum iterations (200) reached and the optimization hasn't converged yet.\n",
            "  % self.max_iter, ConvergenceWarning)\n"
          ],
          "name": "stderr"
        }
      ]
    },
    {
      "metadata": {
        "id": "d1CktkLYOeoo",
        "colab_type": "code",
        "outputId": "870e6e76-1c9f-4d68-b47d-284099e9c147",
        "colab": {
          "base_uri": "https://localhost:8080/",
          "height": 34
        }
      },
      "cell_type": "code",
      "source": [
        "svc_classifier = SVC(gamma='auto')\n",
        "svc_classifier = svc_classifier.fit(train_data, train_label)\n",
        "\n",
        "svc_prediction = svc_classifier.predict(test_data)\n",
        "print(svc_prediction)"
      ],
      "execution_count": 0,
      "outputs": [
        {
          "output_type": "stream",
          "text": [
            "['male' 'male']\n"
          ],
          "name": "stdout"
        }
      ]
    },
    {
      "metadata": {
        "id": "wCWS3t55P30r",
        "colab_type": "code",
        "outputId": "20323003-2d60-4120-ca5a-e83b7dac90eb",
        "colab": {
          "base_uri": "https://localhost:8080/",
          "height": 85
        }
      },
      "cell_type": "code",
      "source": [
        "tree_accuracy = accuracy_score(test_Y, clf_prediction)\n",
        "kn_accuracy   = accuracy_score(test_Y, kn_prediction)\n",
        "mlp_accuracy  = accuracy_score(test_Y, mlp_prediction)\n",
        "svc_accuracy  = accuracy_score(test_Y, svc_prediction)\n",
        "\n",
        "print('Tree: {}'.format(tree_accuracy * 100))\n",
        "print('Neighbors: {}'.format(kn_accuracy * 100))\n",
        "print('MLP: {}'.format(mlp_accuracy * 100))\n",
        "print('SVC: {}'.format(svc_accuracy * 100))"
      ],
      "execution_count": 0,
      "outputs": [
        {
          "output_type": "stream",
          "text": [
            "Tree: 100.0\n",
            "Neighbors: 100.0\n",
            "MLP: 100.0\n",
            "SVC: 50.0\n"
          ],
          "name": "stdout"
        }
      ]
    },
    {
      "metadata": {
        "id": "VJTRfg4yRdQ8",
        "colab_type": "code",
        "colab": {}
      },
      "cell_type": "code",
      "source": [
        ""
      ],
      "execution_count": 0,
      "outputs": []
    }
  ]
}